{
 "cells": [
  {
   "cell_type": "code",
   "execution_count": 2,
   "id": "ce239de3",
   "metadata": {},
   "outputs": [
    {
     "name": "stdout",
     "output_type": "stream",
     "text": [
      "Loading data from icd_codes.csv and cpt_codes.csv...\n",
      "Data loaded successfully.\n",
      "Analyzing description lengths...\n",
      "Creating plots...\n",
      "Saved plot to 'description_length_analysis.png'\n",
      "\n",
      "EDA script finished successfully.\n"
     ]
    }
   ],
   "source": [
    "import pandas as pd\n",
    "import matplotlib.pyplot as plt\n",
    "import seaborn as sns\n",
    "\n",
    "ICD_FILE_PATH = 'icd_codes.csv'\n",
    "CPT_FILE_PATH = 'cpt_codes.csv'\n",
    "\n",
    "# --- Data Loading ---\n",
    "try:\n",
    "    print(f\"Loading data from {ICD_FILE_PATH} and {CPT_FILE_PATH}...\")\n",
    "    icd_df = pd.read_csv(ICD_FILE_PATH)\n",
    "    cpt_df = pd.read_csv(CPT_FILE_PATH)\n",
    "    print(\"Data loaded successfully.\")\n",
    "except FileNotFoundError:\n",
    "    print(\"\\n--- ERROR ---\")\n",
    "    print(\"Could not find the data files. Please create dummy files named 'icd_codes.csv' and 'cpt_codes.csv' to run this script.\")\n",
    "    # Stop the script if files are not found\n",
    "    exit()\n",
    "\n",
    "# --- The Analysis: Calculate Word Count ---\n",
    "print(\"Analyzing description lengths...\")\n",
    "# Make sure the 'description' column is treated as a string\n",
    "icd_df['description'] = icd_df['LONG DESCRIPTION (VALID ICD-10 FY2025)'].astype(str)\n",
    "cpt_df['description'] = cpt_df['DESCRIPTION'].astype(str)\n",
    "\n",
    "# Calculate the number of words in each description\n",
    "icd_df['word_count'] = icd_df['description'].str.split().str.len()\n",
    "cpt_df['word_count'] = cpt_df['description'].str.split().str.len()\n",
    "\n",
    "\n",
    "# --- Visualization ---\n",
    "print(\"Creating plots...\")\n",
    "plt.style.use('seaborn-v0_8-whitegrid')\n",
    "# Create a figure with two subplots, side-by-side\n",
    "fig, (ax1, ax2) = plt.subplots(1, 2, figsize=(18, 7))\n",
    "\n",
    "# Plot for ICD Codes\n",
    "sns.histplot(data=icd_df, x='word_count', bins=30, ax=ax1, color='#4c72b0')\n",
    "ax1.set_title('Distribution of ICD Code Description Lengths', fontsize=16, pad=20)\n",
    "ax1.set_xlabel('Number of Words in Description', fontsize=12)\n",
    "ax1.set_ylabel('Number of Codes (Frequency)', fontsize=12)\n",
    "ax1.axvline(icd_df['word_count'].mean(), color='red', linestyle='--', linewidth=2, label=f\"Average: {icd_df['word_count'].mean():.1f} words\")\n",
    "ax1.legend()\n",
    "\n",
    "# Plot for CPT Codes\n",
    "sns.histplot(data=cpt_df, x='word_count', bins=30, ax=ax2, color='#dd8452')\n",
    "ax2.set_title('Distribution of CPT Code Description Lengths', fontsize=16, pad=20)\n",
    "ax2.set_xlabel('Number of Words in Description', fontsize=12)\n",
    "ax2.set_ylabel('') \n",
    "\n",
    "ax2.axvline(cpt_df['word_count'].mean(), color='red', linestyle='--', linewidth=2, label=f\"Average: {cpt_df['word_count'].mean():.1f} words\")\n",
    "ax2.legend()\n",
    "\n",
    "\n",
    "plt.tight_layout()\n",
    "plt.savefig('description_length_analysis.png', dpi=300)\n",
    "print(\"Saved plot to 'description_length_analysis.png'\")\n",
    "plt.close()\n",
    "\n",
    "print(\"\\nEDA script finished successfully.\")\n"
   ]
  },
  {
   "cell_type": "code",
   "execution_count": null,
   "id": "7f7098f4",
   "metadata": {},
   "outputs": [],
   "source": []
  }
 ],
 "metadata": {
  "kernelspec": {
   "display_name": "Python 3 (ipykernel)",
   "language": "python",
   "name": "python3"
  },
  "language_info": {
   "codemirror_mode": {
    "name": "ipython",
    "version": 3
   },
   "file_extension": ".py",
   "mimetype": "text/x-python",
   "name": "python",
   "nbconvert_exporter": "python",
   "pygments_lexer": "ipython3",
   "version": "3.11.3"
  }
 },
 "nbformat": 4,
 "nbformat_minor": 5
}
